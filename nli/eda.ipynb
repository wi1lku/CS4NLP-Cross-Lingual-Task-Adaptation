{
 "cells": [
  {
   "cell_type": "code",
   "execution_count": 1,
   "id": "a6a984fc",
   "metadata": {},
   "outputs": [],
   "source": [
    "import pandas as pd    \n",
    "\n",
    "path = \"./data/xnli.dev.jsonl\"\n",
    "xnli = pd.read_json(path_or_buf=path, lines=True)"
   ]
  },
  {
   "cell_type": "code",
   "execution_count": 2,
   "id": "799371b8",
   "metadata": {},
   "outputs": [
    {
     "data": {
      "text/plain": [
       "(37350, 11)"
      ]
     },
     "execution_count": 2,
     "metadata": {},
     "output_type": "execute_result"
    }
   ],
   "source": [
    "xnli.shape"
   ]
  },
  {
   "cell_type": "code",
   "execution_count": 3,
   "id": "a25855be",
   "metadata": {},
   "outputs": [
    {
     "name": "stdout",
     "output_type": "stream",
     "text": [
      "<class 'pandas.core.frame.DataFrame'>\n",
      "RangeIndex: 37350 entries, 0 to 37349\n",
      "Data columns (total 11 columns):\n",
      " #   Column               Non-Null Count  Dtype \n",
      "---  ------               --------------  ----- \n",
      " 0   annotator_labels     37350 non-null  object\n",
      " 1   genre                37350 non-null  object\n",
      " 2   gold_label           37350 non-null  object\n",
      " 3   language             37350 non-null  object\n",
      " 4   match                37350 non-null  object\n",
      " 5   pairID               37350 non-null  int64 \n",
      " 6   promptID             37350 non-null  int64 \n",
      " 7   sentence1            37350 non-null  object\n",
      " 8   sentence1_tokenized  37350 non-null  object\n",
      " 9   sentence2            37350 non-null  object\n",
      " 10  sentence2_tokenized  37350 non-null  object\n",
      "dtypes: int64(2), object(9)\n",
      "memory usage: 3.1+ MB\n"
     ]
    }
   ],
   "source": [
    "xnli.info()"
   ]
  },
  {
   "cell_type": "code",
   "execution_count": 4,
   "id": "65961031",
   "metadata": {},
   "outputs": [
    {
     "data": {
      "text/html": [
       "<div>\n",
       "<style scoped>\n",
       "    .dataframe tbody tr th:only-of-type {\n",
       "        vertical-align: middle;\n",
       "    }\n",
       "\n",
       "    .dataframe tbody tr th {\n",
       "        vertical-align: top;\n",
       "    }\n",
       "\n",
       "    .dataframe thead th {\n",
       "        text-align: right;\n",
       "    }\n",
       "</style>\n",
       "<table border=\"1\" class=\"dataframe\">\n",
       "  <thead>\n",
       "    <tr style=\"text-align: right;\">\n",
       "      <th></th>\n",
       "      <th>annotator_labels</th>\n",
       "      <th>genre</th>\n",
       "      <th>gold_label</th>\n",
       "      <th>language</th>\n",
       "      <th>match</th>\n",
       "      <th>pairID</th>\n",
       "      <th>promptID</th>\n",
       "      <th>sentence1</th>\n",
       "      <th>sentence1_tokenized</th>\n",
       "      <th>sentence2</th>\n",
       "      <th>sentence2_tokenized</th>\n",
       "    </tr>\n",
       "  </thead>\n",
       "  <tbody>\n",
       "    <tr>\n",
       "      <th>9960</th>\n",
       "      <td>[neutral, contradiction, neutral, neutral, neu...</td>\n",
       "      <td>facetoface</td>\n",
       "      <td>neutral</td>\n",
       "      <td>en</td>\n",
       "      <td>True</td>\n",
       "      <td>1</td>\n",
       "      <td>1</td>\n",
       "      <td>And he said, Mama, I'm home.</td>\n",
       "      <td>And he said , Mama , I 'm home .</td>\n",
       "      <td>He called his mom as soon as the school bus dr...</td>\n",
       "      <td>He called his mom as soon as the school bus dr...</td>\n",
       "    </tr>\n",
       "    <tr>\n",
       "      <th>9961</th>\n",
       "      <td>[contradiction, contradiction, contradiction, ...</td>\n",
       "      <td>facetoface</td>\n",
       "      <td>contradiction</td>\n",
       "      <td>en</td>\n",
       "      <td>True</td>\n",
       "      <td>2</td>\n",
       "      <td>1</td>\n",
       "      <td>And he said, Mama, I'm home.</td>\n",
       "      <td>And he said , Mama , I 'm home .</td>\n",
       "      <td>He didn't say a word.</td>\n",
       "      <td>He didn 't say a word .</td>\n",
       "    </tr>\n",
       "    <tr>\n",
       "      <th>9962</th>\n",
       "      <td>[entailment, entailment, neutral, entailment, ...</td>\n",
       "      <td>facetoface</td>\n",
       "      <td>entailment</td>\n",
       "      <td>en</td>\n",
       "      <td>True</td>\n",
       "      <td>3</td>\n",
       "      <td>1</td>\n",
       "      <td>And he said, Mama, I'm home.</td>\n",
       "      <td>And he said , Mama , I 'm home .</td>\n",
       "      <td>He told his mom he had gotten home.</td>\n",
       "      <td>He told his mom he had gotten home .</td>\n",
       "    </tr>\n",
       "    <tr>\n",
       "      <th>9963</th>\n",
       "      <td>[neutral, neutral, neutral, neutral, neutral]</td>\n",
       "      <td>facetoface</td>\n",
       "      <td>neutral</td>\n",
       "      <td>en</td>\n",
       "      <td>True</td>\n",
       "      <td>16</td>\n",
       "      <td>6</td>\n",
       "      <td>I didn't know what I was going for or anything...</td>\n",
       "      <td>I didn 't know what I was going for or anythin...</td>\n",
       "      <td>I have never been to Washington so when I was ...</td>\n",
       "      <td>I have never been to Washington so when I was ...</td>\n",
       "    </tr>\n",
       "    <tr>\n",
       "      <th>9964</th>\n",
       "      <td>[contradiction, contradiction, contradiction, ...</td>\n",
       "      <td>facetoface</td>\n",
       "      <td>contradiction</td>\n",
       "      <td>en</td>\n",
       "      <td>True</td>\n",
       "      <td>17</td>\n",
       "      <td>6</td>\n",
       "      <td>I didn't know what I was going for or anything...</td>\n",
       "      <td>I didn 't know what I was going for or anythin...</td>\n",
       "      <td>I knew exactly what I needed to do as I marche...</td>\n",
       "      <td>I knew exactly what I needed to do as I marche...</td>\n",
       "    </tr>\n",
       "  </tbody>\n",
       "</table>\n",
       "</div>"
      ],
      "text/plain": [
       "                                       annotator_labels       genre  \\\n",
       "9960  [neutral, contradiction, neutral, neutral, neu...  facetoface   \n",
       "9961  [contradiction, contradiction, contradiction, ...  facetoface   \n",
       "9962  [entailment, entailment, neutral, entailment, ...  facetoface   \n",
       "9963      [neutral, neutral, neutral, neutral, neutral]  facetoface   \n",
       "9964  [contradiction, contradiction, contradiction, ...  facetoface   \n",
       "\n",
       "         gold_label language match  pairID  promptID  \\\n",
       "9960        neutral       en  True       1         1   \n",
       "9961  contradiction       en  True       2         1   \n",
       "9962     entailment       en  True       3         1   \n",
       "9963        neutral       en  True      16         6   \n",
       "9964  contradiction       en  True      17         6   \n",
       "\n",
       "                                              sentence1  \\\n",
       "9960                       And he said, Mama, I'm home.   \n",
       "9961                       And he said, Mama, I'm home.   \n",
       "9962                       And he said, Mama, I'm home.   \n",
       "9963  I didn't know what I was going for or anything...   \n",
       "9964  I didn't know what I was going for or anything...   \n",
       "\n",
       "                                    sentence1_tokenized  \\\n",
       "9960                   And he said , Mama , I 'm home .   \n",
       "9961                   And he said , Mama , I 'm home .   \n",
       "9962                   And he said , Mama , I 'm home .   \n",
       "9963  I didn 't know what I was going for or anythin...   \n",
       "9964  I didn 't know what I was going for or anythin...   \n",
       "\n",
       "                                              sentence2  \\\n",
       "9960  He called his mom as soon as the school bus dr...   \n",
       "9961                              He didn't say a word.   \n",
       "9962                He told his mom he had gotten home.   \n",
       "9963  I have never been to Washington so when I was ...   \n",
       "9964  I knew exactly what I needed to do as I marche...   \n",
       "\n",
       "                                    sentence2_tokenized  \n",
       "9960  He called his mom as soon as the school bus dr...  \n",
       "9961                            He didn 't say a word .  \n",
       "9962               He told his mom he had gotten home .  \n",
       "9963  I have never been to Washington so when I was ...  \n",
       "9964  I knew exactly what I needed to do as I marche...  "
      ]
     },
     "execution_count": 4,
     "metadata": {},
     "output_type": "execute_result"
    }
   ],
   "source": [
    "xnli.loc[xnli['language'] == 'en'].head()"
   ]
  },
  {
   "cell_type": "code",
   "execution_count": 5,
   "id": "0f09fa8e",
   "metadata": {},
   "outputs": [
    {
     "data": {
      "text/html": [
       "<div>\n",
       "<style scoped>\n",
       "    .dataframe tbody tr th:only-of-type {\n",
       "        vertical-align: middle;\n",
       "    }\n",
       "\n",
       "    .dataframe tbody tr th {\n",
       "        vertical-align: top;\n",
       "    }\n",
       "\n",
       "    .dataframe thead th {\n",
       "        text-align: right;\n",
       "    }\n",
       "</style>\n",
       "<table border=\"1\" class=\"dataframe\">\n",
       "  <thead>\n",
       "    <tr style=\"text-align: right;\">\n",
       "      <th></th>\n",
       "      <th>annotator_labels</th>\n",
       "      <th>genre</th>\n",
       "      <th>gold_label</th>\n",
       "      <th>language</th>\n",
       "      <th>match</th>\n",
       "      <th>pairID</th>\n",
       "      <th>promptID</th>\n",
       "      <th>sentence1</th>\n",
       "      <th>sentence1_tokenized</th>\n",
       "      <th>sentence2</th>\n",
       "      <th>sentence2_tokenized</th>\n",
       "    </tr>\n",
       "  </thead>\n",
       "  <tbody>\n",
       "    <tr>\n",
       "      <th>4980</th>\n",
       "      <td>[neutral, contradiction, neutral, neutral, neu...</td>\n",
       "      <td>facetoface</td>\n",
       "      <td>neutral</td>\n",
       "      <td>de</td>\n",
       "      <td>True</td>\n",
       "      <td>1</td>\n",
       "      <td>1</td>\n",
       "      <td>und er hat gesagt, Mama ich bin daheim.</td>\n",
       "      <td>und er hat gesagt , Mama ich bin daheim .</td>\n",
       "      <td>Er rief seine Mutter an, sobald er aus dem Sch...</td>\n",
       "      <td>Er rief seine Mutter an , sobald er aus dem Sc...</td>\n",
       "    </tr>\n",
       "    <tr>\n",
       "      <th>4981</th>\n",
       "      <td>[contradiction, contradiction, contradiction, ...</td>\n",
       "      <td>facetoface</td>\n",
       "      <td>contradiction</td>\n",
       "      <td>de</td>\n",
       "      <td>True</td>\n",
       "      <td>2</td>\n",
       "      <td>1</td>\n",
       "      <td>und er hat gesagt, Mama ich bin daheim.</td>\n",
       "      <td>und er hat gesagt , Mama ich bin daheim .</td>\n",
       "      <td>Er sagte kein Wort.</td>\n",
       "      <td>Er sagte kein Wort .</td>\n",
       "    </tr>\n",
       "    <tr>\n",
       "      <th>4982</th>\n",
       "      <td>[entailment, entailment, neutral, entailment, ...</td>\n",
       "      <td>facetoface</td>\n",
       "      <td>entailment</td>\n",
       "      <td>de</td>\n",
       "      <td>True</td>\n",
       "      <td>3</td>\n",
       "      <td>1</td>\n",
       "      <td>und er hat gesagt, Mama ich bin daheim.</td>\n",
       "      <td>und er hat gesagt , Mama ich bin daheim .</td>\n",
       "      <td>Er sagte seiner Mutter, er sei nach Hause geko...</td>\n",
       "      <td>Er sagte seiner Mutter , er sei nach Hause gek...</td>\n",
       "    </tr>\n",
       "    <tr>\n",
       "      <th>4983</th>\n",
       "      <td>[neutral, neutral, neutral, neutral, neutral]</td>\n",
       "      <td>facetoface</td>\n",
       "      <td>neutral</td>\n",
       "      <td>de</td>\n",
       "      <td>True</td>\n",
       "      <td>16</td>\n",
       "      <td>6</td>\n",
       "      <td>Ich wusste nicht was ich vorhatte oder so, ich...</td>\n",
       "      <td>Ich wusste nicht was ich vorhatte oder so , ic...</td>\n",
       "      <td>Ich war noch nie in Washington, deshalb habe i...</td>\n",
       "      <td>Ich war noch nie in Washington , deshalb habe ...</td>\n",
       "    </tr>\n",
       "    <tr>\n",
       "      <th>4984</th>\n",
       "      <td>[contradiction, contradiction, contradiction, ...</td>\n",
       "      <td>facetoface</td>\n",
       "      <td>contradiction</td>\n",
       "      <td>de</td>\n",
       "      <td>True</td>\n",
       "      <td>17</td>\n",
       "      <td>6</td>\n",
       "      <td>Ich wusste nicht was ich vorhatte oder so, ich...</td>\n",
       "      <td>Ich wusste nicht was ich vorhatte oder so , ic...</td>\n",
       "      <td>Ich wusste genau, was ich tun musste, als ich ...</td>\n",
       "      <td>Ich wusste genau , was ich tun musste , als ic...</td>\n",
       "    </tr>\n",
       "  </tbody>\n",
       "</table>\n",
       "</div>"
      ],
      "text/plain": [
       "                                       annotator_labels       genre  \\\n",
       "4980  [neutral, contradiction, neutral, neutral, neu...  facetoface   \n",
       "4981  [contradiction, contradiction, contradiction, ...  facetoface   \n",
       "4982  [entailment, entailment, neutral, entailment, ...  facetoface   \n",
       "4983      [neutral, neutral, neutral, neutral, neutral]  facetoface   \n",
       "4984  [contradiction, contradiction, contradiction, ...  facetoface   \n",
       "\n",
       "         gold_label language match  pairID  promptID  \\\n",
       "4980        neutral       de  True       1         1   \n",
       "4981  contradiction       de  True       2         1   \n",
       "4982     entailment       de  True       3         1   \n",
       "4983        neutral       de  True      16         6   \n",
       "4984  contradiction       de  True      17         6   \n",
       "\n",
       "                                              sentence1  \\\n",
       "4980            und er hat gesagt, Mama ich bin daheim.   \n",
       "4981            und er hat gesagt, Mama ich bin daheim.   \n",
       "4982            und er hat gesagt, Mama ich bin daheim.   \n",
       "4983  Ich wusste nicht was ich vorhatte oder so, ich...   \n",
       "4984  Ich wusste nicht was ich vorhatte oder so, ich...   \n",
       "\n",
       "                                    sentence1_tokenized  \\\n",
       "4980          und er hat gesagt , Mama ich bin daheim .   \n",
       "4981          und er hat gesagt , Mama ich bin daheim .   \n",
       "4982          und er hat gesagt , Mama ich bin daheim .   \n",
       "4983  Ich wusste nicht was ich vorhatte oder so , ic...   \n",
       "4984  Ich wusste nicht was ich vorhatte oder so , ic...   \n",
       "\n",
       "                                              sentence2  \\\n",
       "4980  Er rief seine Mutter an, sobald er aus dem Sch...   \n",
       "4981                                Er sagte kein Wort.   \n",
       "4982  Er sagte seiner Mutter, er sei nach Hause geko...   \n",
       "4983  Ich war noch nie in Washington, deshalb habe i...   \n",
       "4984  Ich wusste genau, was ich tun musste, als ich ...   \n",
       "\n",
       "                                    sentence2_tokenized  \n",
       "4980  Er rief seine Mutter an , sobald er aus dem Sc...  \n",
       "4981                               Er sagte kein Wort .  \n",
       "4982  Er sagte seiner Mutter , er sei nach Hause gek...  \n",
       "4983  Ich war noch nie in Washington , deshalb habe ...  \n",
       "4984  Ich wusste genau , was ich tun musste , als ic...  "
      ]
     },
     "execution_count": 5,
     "metadata": {},
     "output_type": "execute_result"
    }
   ],
   "source": [
    "xnli.loc[xnli['language'] == 'de'].head()"
   ]
  },
  {
   "cell_type": "code",
   "execution_count": 6,
   "id": "980b6b98",
   "metadata": {},
   "outputs": [
    {
     "data": {
      "text/plain": [
       "<Axes: >"
      ]
     },
     "execution_count": 6,
     "metadata": {},
     "output_type": "execute_result"
    },
    {
     "data": {
      "image/png": "[encoded data removed]",
      "text/plain": [
       "<Figure size 640x480 with 1 Axes>"
      ]
     },
     "metadata": {},
     "output_type": "display_data"
    }
   ],
   "source": [
    "xnli[\"gold_label\"].hist()"
   ]
  },
  {
   "cell_type": "code",
   "execution_count": 7,
   "id": "b09e4cae",
   "metadata": {},
   "outputs": [
    {
     "data": {
      "text/plain": [
       "<Axes: >"
      ]
     },
     "execution_count": 7,
     "metadata": {},
     "output_type": "execute_result"
    },
    {
     "data": {
      "image/png": "[encoded data removed]",
      "text/plain": [
       "<Figure size 640x480 with 1 Axes>"
      ]
     },
     "metadata": {},
     "output_type": "display_data"
    }
   ],
   "source": [
    "xnli[\"match\"].hist()"
   ]
  },
  {
   "cell_type": "code",
   "execution_count": 8,
   "id": "d4c7fcc9",
   "metadata": {},
   "outputs": [
    {
     "data": {
      "text/html": [
       "<div>\n",
       "<style scoped>\n",
       "    .dataframe tbody tr th:only-of-type {\n",
       "        vertical-align: middle;\n",
       "    }\n",
       "\n",
       "    .dataframe tbody tr th {\n",
       "        vertical-align: top;\n",
       "    }\n",
       "\n",
       "    .dataframe thead th {\n",
       "        text-align: right;\n",
       "    }\n",
       "</style>\n",
       "<table border=\"1\" class=\"dataframe\">\n",
       "  <thead>\n",
       "    <tr style=\"text-align: right;\">\n",
       "      <th></th>\n",
       "      <th>annotator_labels</th>\n",
       "      <th>genre</th>\n",
       "      <th>gold_label</th>\n",
       "      <th>language</th>\n",
       "      <th>match</th>\n",
       "      <th>pairID</th>\n",
       "      <th>promptID</th>\n",
       "      <th>sentence1</th>\n",
       "      <th>sentence1_tokenized</th>\n",
       "      <th>sentence2</th>\n",
       "      <th>sentence2_tokenized</th>\n",
       "    </tr>\n",
       "  </thead>\n",
       "  <tbody>\n",
       "    <tr>\n",
       "      <th>9977</th>\n",
       "      <td>[neutral, entailment, entailment, entailment, ...</td>\n",
       "      <td>facetoface</td>\n",
       "      <td>neutral</td>\n",
       "      <td>en</td>\n",
       "      <td>False</td>\n",
       "      <td>39</td>\n",
       "      <td>13</td>\n",
       "      <td>And, uh, they kind of actually stopped visitin...</td>\n",
       "      <td>And , uh , they kind of actually stopped visit...</td>\n",
       "      <td>They stopped visiting the family when the raci...</td>\n",
       "      <td>They stopped visiting the family when the raci...</td>\n",
       "    </tr>\n",
       "    <tr>\n",
       "      <th>10002</th>\n",
       "      <td>[entailment, neutral, neutral, entailment, neu...</td>\n",
       "      <td>facetoface</td>\n",
       "      <td>entailment</td>\n",
       "      <td>en</td>\n",
       "      <td>False</td>\n",
       "      <td>115</td>\n",
       "      <td>39</td>\n",
       "      <td>Maybe she told everyone else and I wasn't payi...</td>\n",
       "      <td>Maybe she told everyone else and I wasn 't pay...</td>\n",
       "      <td>I didn't hear her when she told everyone else.</td>\n",
       "      <td>I didn 't hear her when she told everyone else .</td>\n",
       "    </tr>\n",
       "    <tr>\n",
       "      <th>10041</th>\n",
       "      <td>[neutral, entailment, entailment, neutral, ent...</td>\n",
       "      <td>facetoface</td>\n",
       "      <td>neutral</td>\n",
       "      <td>en</td>\n",
       "      <td>False</td>\n",
       "      <td>193</td>\n",
       "      <td>65</td>\n",
       "      <td>You don't have to stay there.</td>\n",
       "      <td>You don 't have to stay there .</td>\n",
       "      <td>You can go home if you want to.</td>\n",
       "      <td>You can go home if you want to .</td>\n",
       "    </tr>\n",
       "    <tr>\n",
       "      <th>10072</th>\n",
       "      <td>[entailment, contradiction, neutral, neutral, ...</td>\n",
       "      <td>facetoface</td>\n",
       "      <td>entailment</td>\n",
       "      <td>en</td>\n",
       "      <td>False</td>\n",
       "      <td>290</td>\n",
       "      <td>97</td>\n",
       "      <td>It wasn't nothing but a desert; there was sage...</td>\n",
       "      <td>It wasn 't nothing but a desert ; there was sa...</td>\n",
       "      <td>There was a lot of scrubbby foilage in the area.</td>\n",
       "      <td>There was a lot of scrubbby foilage in the area .</td>\n",
       "    </tr>\n",
       "    <tr>\n",
       "      <th>10117</th>\n",
       "      <td>[neutral, entailment, entailment, neutral, ent...</td>\n",
       "      <td>facetoface</td>\n",
       "      <td>neutral</td>\n",
       "      <td>en</td>\n",
       "      <td>False</td>\n",
       "      <td>434</td>\n",
       "      <td>145</td>\n",
       "      <td>It would not explode without the trigger.</td>\n",
       "      <td>It would not explode without the trigger .</td>\n",
       "      <td>The trigger makes the bomb explode..</td>\n",
       "      <td>The trigger makes the bomb explode ..</td>\n",
       "    </tr>\n",
       "  </tbody>\n",
       "</table>\n",
       "</div>"
      ],
      "text/plain": [
       "                                        annotator_labels       genre  \\\n",
       "9977   [neutral, entailment, entailment, entailment, ...  facetoface   \n",
       "10002  [entailment, neutral, neutral, entailment, neu...  facetoface   \n",
       "10041  [neutral, entailment, entailment, neutral, ent...  facetoface   \n",
       "10072  [entailment, contradiction, neutral, neutral, ...  facetoface   \n",
       "10117  [neutral, entailment, entailment, neutral, ent...  facetoface   \n",
       "\n",
       "       gold_label language  match  pairID  promptID  \\\n",
       "9977      neutral       en  False      39        13   \n",
       "10002  entailment       en  False     115        39   \n",
       "10041     neutral       en  False     193        65   \n",
       "10072  entailment       en  False     290        97   \n",
       "10117     neutral       en  False     434       145   \n",
       "\n",
       "                                               sentence1  \\\n",
       "9977   And, uh, they kind of actually stopped visitin...   \n",
       "10002  Maybe she told everyone else and I wasn't payi...   \n",
       "10041                      You don't have to stay there.   \n",
       "10072  It wasn't nothing but a desert; there was sage...   \n",
       "10117          It would not explode without the trigger.   \n",
       "\n",
       "                                     sentence1_tokenized  \\\n",
       "9977   And , uh , they kind of actually stopped visit...   \n",
       "10002  Maybe she told everyone else and I wasn 't pay...   \n",
       "10041                    You don 't have to stay there .   \n",
       "10072  It wasn 't nothing but a desert ; there was sa...   \n",
       "10117         It would not explode without the trigger .   \n",
       "\n",
       "                                               sentence2  \\\n",
       "9977   They stopped visiting the family when the raci...   \n",
       "10002     I didn't hear her when she told everyone else.   \n",
       "10041                    You can go home if you want to.   \n",
       "10072   There was a lot of scrubbby foilage in the area.   \n",
       "10117               The trigger makes the bomb explode..   \n",
       "\n",
       "                                     sentence2_tokenized  \n",
       "9977   They stopped visiting the family when the raci...  \n",
       "10002   I didn 't hear her when she told everyone else .  \n",
       "10041                   You can go home if you want to .  \n",
       "10072  There was a lot of scrubbby foilage in the area .  \n",
       "10117              The trigger makes the bomb explode ..  "
      ]
     },
     "execution_count": 8,
     "metadata": {},
     "output_type": "execute_result"
    }
   ],
   "source": [
    "xnli.loc[(xnli['match'] == \"False\") & (xnli[\"language\"] == \"en\")].head()"
   ]
  },
  {
   "cell_type": "code",
   "execution_count": 9,
   "id": "5f308e7b",
   "metadata": {},
   "outputs": [],
   "source": [
    "def print_pair(index: int):\n",
    "    \"\"\"\n",
    "    Print the sentence pair with the given ID.\n",
    "    \"\"\"\n",
    "    row = xnli.iloc[index]\n",
    "    print(f\"Index: {index}\")\n",
    "    print(f\"Language: {row['language']}\")\n",
    "    print(f\"Sentence 1: {row['sentence1']}\")\n",
    "    print(f\"Sentence 2: {row['sentence2']}\")\n",
    "    print(f\"Gold Label: {row['gold_label']}\")\n",
    "    print(f\"Match: {row['match']}\")"
   ]
  },
  {
   "cell_type": "code",
   "execution_count": 10,
   "id": "38594563",
   "metadata": {},
   "outputs": [
    {
     "name": "stdout",
     "output_type": "stream",
     "text": [
      "Index: 9977\n",
      "Language: en\n",
      "Sentence 1: And, uh, they kind of actually stopped visiting the family because they were just, just determined that they were going to be white.\n",
      "Sentence 2: They stopped visiting the family when the racial tensions started.\n",
      "Gold Label: neutral\n",
      "Match: False\n"
     ]
    }
   ],
   "source": [
    "print_pair(9977)"
   ]
  },
  {
   "cell_type": "code",
   "execution_count": 11,
   "id": "2dec441a",
   "metadata": {},
   "outputs": [
    {
     "data": {
      "text/plain": [
       "'And, uh, they kind of actually stopped visiting the family because they were just, just determined that they were going to be white.'"
      ]
     },
     "execution_count": 11,
     "metadata": {},
     "output_type": "execute_result"
    }
   ],
   "source": [
    "xnli.loc[9977, \"sentence1\"]"
   ]
  },
  {
   "cell_type": "code",
   "execution_count": 12,
   "id": "0a562b6a",
   "metadata": {},
   "outputs": [
    {
     "data": {
      "text/plain": [
       "'And , uh , they kind of actually stopped visiting the family because they were just , just determined that they were going to be white .'"
      ]
     },
     "execution_count": 12,
     "metadata": {},
     "output_type": "execute_result"
    }
   ],
   "source": [
    "xnli.loc[9977, \"sentence1_tokenized\"]"
   ]
  },
  {
   "cell_type": "code",
   "execution_count": 13,
   "id": "4cafcd73",
   "metadata": {},
   "outputs": [
    {
     "data": {
      "text/plain": [
       "annotator_labels       0\n",
       "genre                  0\n",
       "gold_label             0\n",
       "language               0\n",
       "match                  0\n",
       "pairID                 0\n",
       "promptID               0\n",
       "sentence1              0\n",
       "sentence1_tokenized    0\n",
       "sentence2              0\n",
       "sentence2_tokenized    0\n",
       "dtype: int64"
      ]
     },
     "execution_count": 13,
     "metadata": {},
     "output_type": "execute_result"
    }
   ],
   "source": [
    "# show missing values\n",
    "xnli.isnull().sum()"
   ]
  },
  {
   "cell_type": "code",
   "execution_count": 14,
   "id": "a8cda3ea",
   "metadata": {},
   "outputs": [
    {
     "data": {
      "text/plain": [
       "annotator_labels       0\n",
       "genre                  0\n",
       "gold_label             0\n",
       "language               0\n",
       "match                  0\n",
       "pairID                 0\n",
       "promptID               0\n",
       "sentence1              0\n",
       "sentence1_tokenized    0\n",
       "sentence2              0\n",
       "sentence2_tokenized    0\n",
       "dtype: int64"
      ]
     },
     "execution_count": 14,
     "metadata": {},
     "output_type": "execute_result"
    }
   ],
   "source": [
    "# show empty strings\n",
    "(xnli == \"\").sum()"
   ]
  },
  {
   "cell_type": "code",
   "execution_count": 15,
   "id": "216dc1c8",
   "metadata": {},
   "outputs": [
    {
     "data": {
      "text/plain": [
       "<Axes: >"
      ]
     },
     "execution_count": 15,
     "metadata": {},
     "output_type": "execute_result"
    },
    {
     "data": {
      "image/png": "[encoded data removed]",
      "text/plain": [
       "<Figure size 640x480 with 1 Axes>"
      ]
     },
     "metadata": {},
     "output_type": "display_data"
    }
   ],
   "source": [
    "xnli[\"word_count\"] = xnli[\"sentence1_tokenized\"].apply(lambda x: len(x.split(\" \")))\n",
    "xnli[\"word_count\"].hist()"
   ]
  },
  {
   "cell_type": "code",
   "execution_count": 16,
   "id": "734d7597",
   "metadata": {},
   "outputs": [
    {
     "name": "stdout",
     "output_type": "stream",
     "text": [
      "Index: 9973\n",
      "Language: en\n",
      "Sentence 1: I was just there just trying to figure it out.\n",
      "Sentence 2: I was trying to understand where the money went.\n",
      "Gold Label: neutral\n",
      "Match: True\n"
     ]
    }
   ],
   "source": [
    "print_pair(9973)"
   ]
  },
  {
   "cell_type": "code",
   "execution_count": 17,
   "id": "6d1652e2",
   "metadata": {},
   "outputs": [
    {
     "name": "stdout",
     "output_type": "stream",
     "text": [
      "Index: 9981\n",
      "Language: en\n",
      "Sentence 1: Michael Santo of, of Firewell and Company, of Buffalo, NY, they was the one that uh, manufactured, uh, invented the high O2 regulator before that they built fire control on the stove well.\n",
      "Sentence 2: Santo lived in New York and worked on the high O2 regulator.\n",
      "Gold Label: entailment\n",
      "Match: True\n"
     ]
    }
   ],
   "source": [
    "print_pair(9981)"
   ]
  }
 ],
 "metadata": {
  "kernelspec": {
   "display_name": "cil-env",
   "language": "python",
   "name": "python3"
  },
  "language_info": {
   "codemirror_mode": {
    "name": "ipython",
    "version": 3
   },
   "file_extension": ".py",
   "mimetype": "text/x-python",
   "name": "python",
   "nbconvert_exporter": "python",
   "pygments_lexer": "ipython3",
   "version": "3.12.3"
  }
 },
 "nbformat": 4,
 "nbformat_minor": 5
}
